{
 "cells": [
  {
   "cell_type": "code",
   "execution_count": 1,
   "id": "e0fb7ab6",
   "metadata": {},
   "outputs": [],
   "source": [
    "import pandas as pd\n",
    "\n",
    "# Creating a DataFrame\n",
    "data = {'Column1': [1, 2, 3],\n",
    "        'Column2': ['A', 'B', 'C'],\n",
    "        'Column3': [10.5, 20.3, 15.8]}\n",
    "\n",
    "df = pd.DataFrame(data)\n"
   ]
  },
  {
   "cell_type": "code",
   "execution_count": 2,
   "id": "3bd03457",
   "metadata": {},
   "outputs": [
    {
     "data": {
      "text/html": [
       "<div>\n",
       "<style scoped>\n",
       "    .dataframe tbody tr th:only-of-type {\n",
       "        vertical-align: middle;\n",
       "    }\n",
       "\n",
       "    .dataframe tbody tr th {\n",
       "        vertical-align: top;\n",
       "    }\n",
       "\n",
       "    .dataframe thead th {\n",
       "        text-align: right;\n",
       "    }\n",
       "</style>\n",
       "<table border=\"1\" class=\"dataframe\">\n",
       "  <thead>\n",
       "    <tr style=\"text-align: right;\">\n",
       "      <th></th>\n",
       "      <th>Column1</th>\n",
       "      <th>Column2</th>\n",
       "      <th>Column3</th>\n",
       "    </tr>\n",
       "  </thead>\n",
       "  <tbody>\n",
       "    <tr>\n",
       "      <th>0</th>\n",
       "      <td>1</td>\n",
       "      <td>A</td>\n",
       "      <td>10.5</td>\n",
       "    </tr>\n",
       "    <tr>\n",
       "      <th>1</th>\n",
       "      <td>2</td>\n",
       "      <td>B</td>\n",
       "      <td>20.3</td>\n",
       "    </tr>\n",
       "    <tr>\n",
       "      <th>2</th>\n",
       "      <td>3</td>\n",
       "      <td>C</td>\n",
       "      <td>15.8</td>\n",
       "    </tr>\n",
       "  </tbody>\n",
       "</table>\n",
       "</div>"
      ],
      "text/plain": [
       "   Column1 Column2  Column3\n",
       "0        1       A     10.5\n",
       "1        2       B     20.3\n",
       "2        3       C     15.8"
      ]
     },
     "execution_count": 2,
     "metadata": {},
     "output_type": "execute_result"
    }
   ],
   "source": [
    "df.head()"
   ]
  },
  {
   "cell_type": "code",
   "execution_count": 3,
   "id": "72958239",
   "metadata": {},
   "outputs": [
    {
     "data": {
      "text/plain": [
       "RangeIndex(start=0, stop=3, step=1)"
      ]
     },
     "execution_count": 3,
     "metadata": {},
     "output_type": "execute_result"
    }
   ],
   "source": [
    "df.index\n"
   ]
  },
  {
   "cell_type": "code",
   "execution_count": 4,
   "id": "f92ded30",
   "metadata": {},
   "outputs": [
    {
     "data": {
      "text/plain": [
       "0    1\n",
       "1    2\n",
       "2    3\n",
       "Name: Column1, dtype: int64"
      ]
     },
     "execution_count": 4,
     "metadata": {},
     "output_type": "execute_result"
    }
   ],
   "source": [
    "df['Column1']\n"
   ]
  },
  {
   "cell_type": "code",
   "execution_count": 5,
   "id": "f22ed966",
   "metadata": {},
   "outputs": [
    {
     "data": {
      "text/plain": [
       "Column1       1\n",
       "Column2       A\n",
       "Column3    10.5\n",
       "Name: 0, dtype: object"
      ]
     },
     "execution_count": 5,
     "metadata": {},
     "output_type": "execute_result"
    }
   ],
   "source": [
    "df.iloc[0]\n"
   ]
  },
  {
   "cell_type": "code",
   "execution_count": 6,
   "id": "5d784bd3",
   "metadata": {},
   "outputs": [],
   "source": [
    "df.to_csv('pandas_challenge_31.csv')"
   ]
  },
  {
   "cell_type": "markdown",
   "id": "4d77f4be",
   "metadata": {},
   "source": [
    "Dynamic and interactive data visualizations offer a compelling solution to the challenges posed by information overload in our contemporary information-rich era. Capitalizing on the visual nature of humans, these visualizations provide a rapid and efficient means to convey intricate data, uncovering nuanced patterns and trends within the raw information. Through the process of mapping data to visuals and harnessing computational capabilities, the iterative design process gains momentum, enabling the exploration of diverse mappings. The inclusion of interactivity further enhances their effectiveness by granting users the autonomy to delve into data on their own terms, fostering engagement and transforming data exploration into an immersive and enjoyable undertaking. When deployed on the web, this approach not only ensures accessibility to a global audience but also guarantees that visualizations remain dynamic and adaptive tools for effective communication."
   ]
  },
  {
   "cell_type": "code",
   "execution_count": null,
   "id": "e63ce0a1",
   "metadata": {},
   "outputs": [],
   "source": []
  }
 ],
 "metadata": {
  "kernelspec": {
   "display_name": "Python 3 (ipykernel)",
   "language": "python",
   "name": "python3"
  },
  "language_info": {
   "codemirror_mode": {
    "name": "ipython",
    "version": 3
   },
   "file_extension": ".py",
   "mimetype": "text/x-python",
   "name": "python",
   "nbconvert_exporter": "python",
   "pygments_lexer": "ipython3",
   "version": "3.11.5"
  }
 },
 "nbformat": 4,
 "nbformat_minor": 5
}
