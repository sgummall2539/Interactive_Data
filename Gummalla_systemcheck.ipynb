{
 "cells": [
  {
   "cell_type": "markdown",
   "id": "02d88843",
   "metadata": {},
   "source": [
    "# My Goals for This Class\n",
    "## Learning Objectives\n",
    "1. Understand Python programming fundamentals.\n",
    "2. Explore data science concepts.\n",
    "\n",
    "## Hopes and Expectations\n",
    "- Gain practical coding skills.\n",
    "- Apply data analysis techniques.\n",
    "\n",
    "## Bold and Italics\n",
    "This class will help me **expand my programming knowledge** and *apply it to real-world problems*.\n",
    "\n",
    "![Class Image](https://www.google.com/url?sa=i&url=https%3A%2F%2Fwww.nea.org%2Fprofessional-excellence%2Fstudent-engagement%2Ftools-tips%2Fyour-classroom-ready&psig=AOvVaw2zJ5WDV_hfVt_5dDzCOOnM&ust=1706214347513000&source=images&cd=vfe&opi=89978449&ved=0CBMQjRxqFwoTCOiX5PHt9oMDFQAAAAAdAAAAABAD)\n"
   ]
  },
  {
   "cell_type": "code",
   "execution_count": 1,
   "id": "3f13798a",
   "metadata": {},
   "outputs": [
    {
     "name": "stdout",
     "output_type": "stream",
     "text": [
      "0\n",
      "1\n",
      "2\n",
      "3\n",
      "4\n",
      "Received parameter: 5\n",
      "Result: 10\n"
     ]
    }
   ],
   "source": [
    "# Variable assignment\n",
    "x = 10\n",
    "\n",
    "# For loop\n",
    "for i in range(5):\n",
    "    print(i)\n",
    "\n",
    "# Function with print and return statements\n",
    "def example_function(parameter):\n",
    "    print(f\"Received parameter: {parameter}\")\n",
    "    return parameter * 2\n",
    "\n",
    "result = example_function(5)\n",
    "print(f\"Result: {result}\")\n"
   ]
  },
  {
   "cell_type": "code",
   "execution_count": null,
   "id": "2b663401",
   "metadata": {},
   "outputs": [],
   "source": []
  }
 ],
 "metadata": {
  "kernelspec": {
   "display_name": "Python 3 (ipykernel)",
   "language": "python",
   "name": "python3"
  },
  "language_info": {
   "codemirror_mode": {
    "name": "ipython",
    "version": 3
   },
   "file_extension": ".py",
   "mimetype": "text/x-python",
   "name": "python",
   "nbconvert_exporter": "python",
   "pygments_lexer": "ipython3",
   "version": "3.11.5"
  }
 },
 "nbformat": 4,
 "nbformat_minor": 5
}
